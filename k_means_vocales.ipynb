{
  "cells": [
    {
      "cell_type": "markdown",
      "metadata": {
        "id": "view-in-github",
        "colab_type": "text"
      },
      "source": [
        "<a href=\"https://colab.research.google.com/github/ffelicioni/proyecto_vocales/blob/main/k_means_vocales.ipynb\" target=\"_parent\"><img src=\"https://colab.research.google.com/assets/colab-badge.svg\" alt=\"Open In Colab\"/></a>"
      ]
    },
    {
      "cell_type": "markdown",
      "metadata": {
        "id": "M74XfqldpskO"
      },
      "source": [
        "## 1. Modulos"
      ]
    },
    {
      "cell_type": "code",
      "source": [
        "import sys\n",
        "import os.path\n",
        "from os import path\n",
        "\n",
        "def is_runing_into_colab_env():\n",
        "    try:\n",
        "        import google.colab\n",
        "        return True\n",
        "    except:\n",
        "        return False\n",
        "\n",
        "if is_runing_into_colab_env():\n",
        "    if path.exists('/content/proyecto_vocales'):\n",
        "        print('Pull...\\n')\n",
        "        !cd proyecto_vocales; git pull origin main\n",
        "    else:\n",
        "        print('Clone...\\n')\n",
        "        !git clone https://github.com/ccollado7/proyecto_vocales\n",
        "\n",
        "if is_runing_into_colab_env():\n",
        "    !pip install praat-parselmouth"
      ],
      "metadata": {
        "id": "5laxT7tOyfOF"
      },
      "execution_count": null,
      "outputs": []
    },
    {
      "cell_type": "code",
      "source": [
        "sys.path.append('/content/proyecto_vocales/src')"
      ],
      "metadata": {
        "id": "oDTtdN97ygJa"
      },
      "execution_count": null,
      "outputs": []
    },
    {
      "cell_type": "code",
      "execution_count": null,
      "metadata": {
        "id": "aRfqiIhfZWmg"
      },
      "outputs": [],
      "source": [
        "#Generales\n",
        "import pandas as pd\n",
        "import matplotlib.pyplot as plt\n",
        "import numpy as np\n",
        "import seaborn as sns\n",
        "\n",
        "import io\n",
        "import glob\n",
        "from pathlib import Path\n",
        "\n",
        "#Audio\n",
        "!pip install praat-parselmouth\n",
        "from parselmouth import praat\n",
        "import parselmouth \n",
        "\n",
        "#propios\n",
        "from fwav2df import extraer_formantes, \\\n",
        "                    armar_dataset, \\\n",
        "                    armar_dataset_audios_procesados\n",
        "\n",
        "from graph import graficar_svm\n",
        "\n",
        "#No Supervisados\n",
        "from sklearn.cluster import KMeans\n",
        "from sklearn import svm\n",
        "\n",
        "#Supervisados\n",
        "from sklearn.model_selection import train_test_split\n",
        "from sklearn.compose import ColumnTransformer\n",
        "from sklearn.preprocessing import StandardScaler\n",
        "from sklearn.preprocessing import LabelEncoder"
      ]
    },
    {
      "cell_type": "markdown",
      "metadata": {
        "id": "IcKV5MsDpskY"
      },
      "source": [
        "## 2. Lectura de datos - Dataframe"
      ]
    },
    {
      "cell_type": "markdown",
      "metadata": {
        "id": "bhlmOU6io8_r"
      },
      "source": [
        "Leer archivos y armar el dataset"
      ]
    },
    {
      "cell_type": "code",
      "execution_count": null,
      "metadata": {
        "id": "tbXKNZtRpska"
      },
      "outputs": [],
      "source": [
        "url = 'https://raw.githubusercontent.com/ccollado7/proyecto_vocales/main/data/raw/features_'\n",
        "df=armar_dataset_audios_procesados(url)"
      ]
    },
    {
      "cell_type": "markdown",
      "source": [
        "**Función de extracción de formantes**\n",
        "\n",
        "Si bien los audios con vocales son señales temporales, se aproximan por sus formates del espectro.\n",
        "\n",
        "`(https://www.fceia.unr.edu.ar/prodivoz/home_index.html)` | [Prodivoz](https://www.fceia.unr.edu.ar/prodivoz/home_index.html)"
      ],
      "metadata": {
        "id": "JIx4-QmExoiC"
      }
    },
    {
      "cell_type": "code",
      "source": [
        "carpeta_wav=glob.glob('proyecto_vocales/data/raw/wav/*.wav')\n",
        "df=armar_dataset(carpeta_wav,funcion='lpc_rf')"
      ],
      "metadata": {
        "id": "4ef5_UJbfFtC"
      },
      "execution_count": null,
      "outputs": []
    },
    {
      "cell_type": "code",
      "execution_count": null,
      "metadata": {
        "colab": {
          "base_uri": "https://localhost:8080/",
          "height": 206
        },
        "id": "N5uGc23siT3a",
        "outputId": "83948830-cebd-4e97-a584-7382c995452b"
      },
      "outputs": [
        {
          "output_type": "execute_result",
          "data": {
            "text/html": [
              "\n",
              "  <div id=\"df-c6e70200-492a-4256-a07a-25114e5007a4\">\n",
              "    <div class=\"colab-df-container\">\n",
              "      <div>\n",
              "<style scoped>\n",
              "    .dataframe tbody tr th:only-of-type {\n",
              "        vertical-align: middle;\n",
              "    }\n",
              "\n",
              "    .dataframe tbody tr th {\n",
              "        vertical-align: top;\n",
              "    }\n",
              "\n",
              "    .dataframe thead th {\n",
              "        text-align: right;\n",
              "    }\n",
              "</style>\n",
              "<table border=\"1\" class=\"dataframe\">\n",
              "  <thead>\n",
              "    <tr style=\"text-align: right;\">\n",
              "      <th></th>\n",
              "      <th>0</th>\n",
              "      <th>1</th>\n",
              "      <th>target</th>\n",
              "    </tr>\n",
              "  </thead>\n",
              "  <tbody>\n",
              "    <tr>\n",
              "      <th>39</th>\n",
              "      <td>1002.0</td>\n",
              "      <td>1550.0</td>\n",
              "      <td>A</td>\n",
              "    </tr>\n",
              "    <tr>\n",
              "      <th>40</th>\n",
              "      <td>948.0</td>\n",
              "      <td>1506.0</td>\n",
              "      <td>A</td>\n",
              "    </tr>\n",
              "    <tr>\n",
              "      <th>2</th>\n",
              "      <td>780.0</td>\n",
              "      <td>1214.0</td>\n",
              "      <td>A</td>\n",
              "    </tr>\n",
              "    <tr>\n",
              "      <th>4</th>\n",
              "      <td>766.0</td>\n",
              "      <td>1234.0</td>\n",
              "      <td>A</td>\n",
              "    </tr>\n",
              "    <tr>\n",
              "      <th>53</th>\n",
              "      <td>810.0</td>\n",
              "      <td>1250.0</td>\n",
              "      <td>A</td>\n",
              "    </tr>\n",
              "  </tbody>\n",
              "</table>\n",
              "</div>\n",
              "      <button class=\"colab-df-convert\" onclick=\"convertToInteractive('df-c6e70200-492a-4256-a07a-25114e5007a4')\"\n",
              "              title=\"Convert this dataframe to an interactive table.\"\n",
              "              style=\"display:none;\">\n",
              "        \n",
              "  <svg xmlns=\"http://www.w3.org/2000/svg\" height=\"24px\"viewBox=\"0 0 24 24\"\n",
              "       width=\"24px\">\n",
              "    <path d=\"M0 0h24v24H0V0z\" fill=\"none\"/>\n",
              "    <path d=\"M18.56 5.44l.94 2.06.94-2.06 2.06-.94-2.06-.94-.94-2.06-.94 2.06-2.06.94zm-11 1L8.5 8.5l.94-2.06 2.06-.94-2.06-.94L8.5 2.5l-.94 2.06-2.06.94zm10 10l.94 2.06.94-2.06 2.06-.94-2.06-.94-.94-2.06-.94 2.06-2.06.94z\"/><path d=\"M17.41 7.96l-1.37-1.37c-.4-.4-.92-.59-1.43-.59-.52 0-1.04.2-1.43.59L10.3 9.45l-7.72 7.72c-.78.78-.78 2.05 0 2.83L4 21.41c.39.39.9.59 1.41.59.51 0 1.02-.2 1.41-.59l7.78-7.78 2.81-2.81c.8-.78.8-2.07 0-2.86zM5.41 20L4 18.59l7.72-7.72 1.47 1.35L5.41 20z\"/>\n",
              "  </svg>\n",
              "      </button>\n",
              "      \n",
              "  <style>\n",
              "    .colab-df-container {\n",
              "      display:flex;\n",
              "      flex-wrap:wrap;\n",
              "      gap: 12px;\n",
              "    }\n",
              "\n",
              "    .colab-df-convert {\n",
              "      background-color: #E8F0FE;\n",
              "      border: none;\n",
              "      border-radius: 50%;\n",
              "      cursor: pointer;\n",
              "      display: none;\n",
              "      fill: #1967D2;\n",
              "      height: 32px;\n",
              "      padding: 0 0 0 0;\n",
              "      width: 32px;\n",
              "    }\n",
              "\n",
              "    .colab-df-convert:hover {\n",
              "      background-color: #E2EBFA;\n",
              "      box-shadow: 0px 1px 2px rgba(60, 64, 67, 0.3), 0px 1px 3px 1px rgba(60, 64, 67, 0.15);\n",
              "      fill: #174EA6;\n",
              "    }\n",
              "\n",
              "    [theme=dark] .colab-df-convert {\n",
              "      background-color: #3B4455;\n",
              "      fill: #D2E3FC;\n",
              "    }\n",
              "\n",
              "    [theme=dark] .colab-df-convert:hover {\n",
              "      background-color: #434B5C;\n",
              "      box-shadow: 0px 1px 3px 1px rgba(0, 0, 0, 0.15);\n",
              "      filter: drop-shadow(0px 1px 2px rgba(0, 0, 0, 0.3));\n",
              "      fill: #FFFFFF;\n",
              "    }\n",
              "  </style>\n",
              "\n",
              "      <script>\n",
              "        const buttonEl =\n",
              "          document.querySelector('#df-c6e70200-492a-4256-a07a-25114e5007a4 button.colab-df-convert');\n",
              "        buttonEl.style.display =\n",
              "          google.colab.kernel.accessAllowed ? 'block' : 'none';\n",
              "\n",
              "        async function convertToInteractive(key) {\n",
              "          const element = document.querySelector('#df-c6e70200-492a-4256-a07a-25114e5007a4');\n",
              "          const dataTable =\n",
              "            await google.colab.kernel.invokeFunction('convertToInteractive',\n",
              "                                                     [key], {});\n",
              "          if (!dataTable) return;\n",
              "\n",
              "          const docLinkHtml = 'Like what you see? Visit the ' +\n",
              "            '<a target=\"_blank\" href=https://colab.research.google.com/notebooks/data_table.ipynb>data table notebook</a>'\n",
              "            + ' to learn more about interactive tables.';\n",
              "          element.innerHTML = '';\n",
              "          dataTable['output_type'] = 'display_data';\n",
              "          await google.colab.output.renderOutput(dataTable, element);\n",
              "          const docLink = document.createElement('div');\n",
              "          docLink.innerHTML = docLinkHtml;\n",
              "          element.appendChild(docLink);\n",
              "        }\n",
              "      </script>\n",
              "    </div>\n",
              "  </div>\n",
              "  "
            ],
            "text/plain": [
              "         0       1 target\n",
              "39  1002.0  1550.0      A\n",
              "40   948.0  1506.0      A\n",
              "2    780.0  1214.0      A\n",
              "4    766.0  1234.0      A\n",
              "53   810.0  1250.0      A"
            ]
          },
          "metadata": {},
          "execution_count": 81
        }
      ],
      "source": [
        "df.head()"
      ]
    },
    {
      "cell_type": "code",
      "execution_count": null,
      "metadata": {
        "id": "EPnaUv8ypske",
        "outputId": "2913aaf7-5854-49b3-ad31-bcc1cd39d7ef",
        "colab": {
          "base_uri": "https://localhost:8080/"
        }
      },
      "outputs": [
        {
          "output_type": "execute_result",
          "data": {
            "text/plain": [
              "Index([0, 1, 'target'], dtype='object')"
            ]
          },
          "metadata": {},
          "execution_count": 59
        }
      ],
      "source": [
        "df.columns"
      ]
    },
    {
      "cell_type": "markdown",
      "source": [
        "**Alternativa para extraer formantes Praat**\n",
        "\n",
        "`(https://parselmouth.readthedocs.io/en/stable/)` | [Parselmouth](https://parselmouth.readthedocs.io/en/stable/) \n"
      ],
      "metadata": {
        "id": "KjubCL8a2XN8"
      }
    },
    {
      "cell_type": "code",
      "source": [
        "def extract_praat(file_path):\n",
        "    sound = parselmouth.Sound(file_path)\n",
        "    formants = praat.call(sound, \"To Formant (burg)\", 0.025, 5, 8000, 0.05, 50)# 5 formantes recomendado\n",
        "    f1_list = []\n",
        "    f2_list = []\n",
        "    f_mean=[]\n",
        "    #f3_list = []\n",
        "    for i in range(2, formants.get_number_of_frames()+1):\n",
        "        f1 = formants.get_value_at_time(1, formants.get_time_step()*i)\n",
        "        f2 = formants.get_value_at_time(2, formants.get_time_step()*i)\n",
        "        f3 = formants.get_value_at_time(3, formants.get_time_step()*i)\n",
        "        f1_list.append(f1)\n",
        "        f2_list.append(f2)\n",
        "        #f3_list.append(f3)\n",
        "    f_mean.append(np.mean(f1_list))\n",
        "    f_mean.append(np.mean(f2_list))\n",
        "    #f_mean.append(np.median(f3_list))\n",
        "    return pd.DataFrame(f_mean).transpose()"
      ],
      "metadata": {
        "id": "iMENZdw135mv"
      },
      "execution_count": null,
      "outputs": []
    },
    {
      "cell_type": "code",
      "source": [
        "carpeta_wav=glob.glob('proyecto_vocales/data/raw/wav/*.wav')\n",
        "\n",
        "df=pd.DataFrame()\n",
        "for file_path in carpeta_wav:\n",
        "    filename = Path(file_path).stem\n",
        "    filename_parts = filename.split('_')\n",
        "    metadata = {'file_path': file_path,\n",
        "              'vocal': filename_parts[0],\n",
        "              'id': filename_parts[1]}\n",
        "    df1=extract_praat(file_path)\n",
        "    df1['target']=filename_parts[0]\n",
        "    df=pd.concat([df, df1], axis=0).reset_index(drop=True)\n",
        "\n",
        "df['target']=df['target'].str.upper()\n",
        "df.sort_values(by=['target'], ascending=True,inplace=True)"
      ],
      "metadata": {
        "id": "fvzgzhlh3jrX"
      },
      "execution_count": null,
      "outputs": []
    },
    {
      "cell_type": "markdown",
      "metadata": {
        "id": "PEKBYGarpskg"
      },
      "source": [
        "## 3. Analisis Exploratorio"
      ]
    },
    {
      "cell_type": "code",
      "execution_count": null,
      "metadata": {
        "colab": {
          "base_uri": "https://localhost:8080/",
          "height": 514
        },
        "id": "9ukW_aXDpXZo",
        "outputId": "411ebc4e-93d9-4598-9036-e14e542392d8"
      },
      "outputs": [
        {
          "output_type": "execute_result",
          "data": {
            "text/plain": [
              "<matplotlib.axes._subplots.AxesSubplot at 0x7f8f82970e50>"
            ]
          },
          "metadata": {},
          "execution_count": 11
        },
        {
          "output_type": "display_data",
          "data": {
            "image/png": "[encoded data removed]",
            "text/plain": [
              "<Figure size 1080x576 with 1 Axes>"
            ]
          },
          "metadata": {
            "needs_background": "light"
          }
        }
      ],
      "source": [
        "plt.figure(figsize=(15,8))\n",
        "sns.scatterplot(x=0,y=1,hue='target',palette={'A':'r','E':'b','I':'k','O':'g','U':'y'},data=df,legend='brief')"
      ]
    },
    {
      "cell_type": "markdown",
      "metadata": {
        "id": "mWgMm9Wnpskj"
      },
      "source": [
        "### 3.1 Atributo 0"
      ]
    },
    {
      "cell_type": "code",
      "execution_count": null,
      "metadata": {
        "id": "UVfmup8Ppskk",
        "outputId": "d68b3970-034c-48ca-ea59-7fe1a3d29f85",
        "colab": {
          "base_uri": "https://localhost:8080/",
          "height": 515
        }
      },
      "outputs": [
        {
          "output_type": "execute_result",
          "data": {
            "text/plain": [
              "<matplotlib.axes._subplots.AxesSubplot at 0x7fa108806450>"
            ]
          },
          "metadata": {},
          "execution_count": 94
        },
        {
          "output_type": "display_data",
          "data": {
            "image/png": "[encoded data removed]",
            "text/plain": [
              "<Figure size 1080x576 with 1 Axes>"
            ]
          },
          "metadata": {
            "needs_background": "light"
          }
        }
      ],
      "source": [
        "plt.figure(figsize=(15,8))\n",
        "sns.kdeplot(data=df, x=0, hue=\"target\")"
      ]
    },
    {
      "cell_type": "code",
      "execution_count": null,
      "metadata": {
        "id": "YfjYKtg4pskm",
        "outputId": "23258ad0-4c68-4d67-a998-106976567fe2",
        "colab": {
          "base_uri": "https://localhost:8080/",
          "height": 387
        }
      },
      "outputs": [
        {
          "output_type": "execute_result",
          "data": {
            "text/plain": [
              "<seaborn.axisgrid.FacetGrid at 0x7fa10874c450>"
            ]
          },
          "metadata": {},
          "execution_count": 95
        },
        {
          "output_type": "display_data",
          "data": {
            "image/png": "[encoded data removed]",
            "text/plain": [
              "<Figure size 360x360 with 1 Axes>"
            ]
          },
          "metadata": {
            "needs_background": "light"
          }
        }
      ],
      "source": [
        "sns.catplot(x=\"target\", y=0, kind=\"box\", data=df)"
      ]
    },
    {
      "cell_type": "markdown",
      "metadata": {
        "id": "URH54iCbpskn"
      },
      "source": [
        "### 3.2 Atributo 2"
      ]
    },
    {
      "cell_type": "code",
      "execution_count": null,
      "metadata": {
        "id": "xPU611QNpskn",
        "outputId": "86a35da2-8cd6-4554-c498-f3c5e00329ec",
        "colab": {
          "base_uri": "https://localhost:8080/",
          "height": 515
        }
      },
      "outputs": [
        {
          "output_type": "execute_result",
          "data": {
            "text/plain": [
              "<matplotlib.axes._subplots.AxesSubplot at 0x7fa10872b710>"
            ]
          },
          "metadata": {},
          "execution_count": 96
        },
        {
          "output_type": "display_data",
          "data": {
            "image/png": "[encoded data removed]",
            "text/plain": [
              "<Figure size 1080x576 with 1 Axes>"
            ]
          },
          "metadata": {
            "needs_background": "light"
          }
        }
      ],
      "source": [
        "plt.figure(figsize=(15,8))\n",
        "sns.kdeplot(data=df, x=1, hue=\"target\")"
      ]
    },
    {
      "cell_type": "code",
      "execution_count": null,
      "metadata": {
        "id": "-dmhmbZ4psko",
        "outputId": "1a4241f7-9660-4815-8699-d1cbd76a1b54",
        "colab": {
          "base_uri": "https://localhost:8080/",
          "height": 387
        }
      },
      "outputs": [
        {
          "output_type": "execute_result",
          "data": {
            "text/plain": [
              "<seaborn.axisgrid.FacetGrid at 0x7fa10872b050>"
            ]
          },
          "metadata": {},
          "execution_count": 97
        },
        {
          "output_type": "display_data",
          "data": {
            "image/png": "[encoded data removed]",
            "text/plain": [
              "<Figure size 360x360 with 1 Axes>"
            ]
          },
          "metadata": {
            "needs_background": "light"
          }
        }
      ],
      "source": [
        "sns.catplot(x=\"target\", y=1, kind=\"box\", data=df)"
      ]
    },
    {
      "cell_type": "markdown",
      "metadata": {
        "id": "1RN9xDbfpskp"
      },
      "source": [
        "### 3.3 Target"
      ]
    },
    {
      "cell_type": "code",
      "execution_count": null,
      "metadata": {
        "id": "AgGmkvbDpskp",
        "outputId": "c2ea9b6c-0aa0-4f03-c0cb-886dfd5a1688",
        "colab": {
          "base_uri": "https://localhost:8080/",
          "height": 297
        }
      },
      "outputs": [
        {
          "output_type": "execute_result",
          "data": {
            "text/plain": [
              "<matplotlib.axes._subplots.AxesSubplot at 0x7fa1085e1790>"
            ]
          },
          "metadata": {},
          "execution_count": 98
        },
        {
          "output_type": "display_data",
          "data": {
            "image/png": "[encoded data removed]",
            "text/plain": [
              "<Figure size 432x288 with 1 Axes>"
            ]
          },
          "metadata": {
            "needs_background": "light"
          }
        }
      ],
      "source": [
        "sns.countplot(x=\"target\", data=df)"
      ]
    },
    {
      "cell_type": "markdown",
      "metadata": {
        "id": "rxVyKTEHpskq"
      },
      "source": [
        "## 4. Metodos No Supervisados"
      ]
    },
    {
      "cell_type": "markdown",
      "metadata": {
        "id": "cCQilplSuMBm"
      },
      "source": [
        "### 4.1 Método kmeans"
      ]
    },
    {
      "cell_type": "code",
      "execution_count": null,
      "metadata": {
        "id": "jpm8ywdMrafS",
        "outputId": "e25c8edb-205f-411f-faaa-60f96b08c7af",
        "colab": {
          "base_uri": "https://localhost:8080/",
          "height": 206
        }
      },
      "outputs": [
        {
          "output_type": "execute_result",
          "data": {
            "text/html": [
              "\n",
              "  <div id=\"df-aa659f50-237a-4f92-bc7f-c01e4ba2941b\">\n",
              "    <div class=\"colab-df-container\">\n",
              "      <div>\n",
              "<style scoped>\n",
              "    .dataframe tbody tr th:only-of-type {\n",
              "        vertical-align: middle;\n",
              "    }\n",
              "\n",
              "    .dataframe tbody tr th {\n",
              "        vertical-align: top;\n",
              "    }\n",
              "\n",
              "    .dataframe thead th {\n",
              "        text-align: right;\n",
              "    }\n",
              "</style>\n",
              "<table border=\"1\" class=\"dataframe\">\n",
              "  <thead>\n",
              "    <tr style=\"text-align: right;\">\n",
              "      <th></th>\n",
              "      <th>0</th>\n",
              "      <th>1</th>\n",
              "    </tr>\n",
              "  </thead>\n",
              "  <tbody>\n",
              "    <tr>\n",
              "      <th>39</th>\n",
              "      <td>985.139373</td>\n",
              "      <td>1476.144186</td>\n",
              "    </tr>\n",
              "    <tr>\n",
              "      <th>40</th>\n",
              "      <td>973.506985</td>\n",
              "      <td>1497.674672</td>\n",
              "    </tr>\n",
              "    <tr>\n",
              "      <th>2</th>\n",
              "      <td>781.945406</td>\n",
              "      <td>1211.290869</td>\n",
              "    </tr>\n",
              "    <tr>\n",
              "      <th>4</th>\n",
              "      <td>757.792434</td>\n",
              "      <td>1225.030045</td>\n",
              "    </tr>\n",
              "    <tr>\n",
              "      <th>53</th>\n",
              "      <td>821.745556</td>\n",
              "      <td>1252.033344</td>\n",
              "    </tr>\n",
              "  </tbody>\n",
              "</table>\n",
              "</div>\n",
              "      <button class=\"colab-df-convert\" onclick=\"convertToInteractive('df-aa659f50-237a-4f92-bc7f-c01e4ba2941b')\"\n",
              "              title=\"Convert this dataframe to an interactive table.\"\n",
              "              style=\"display:none;\">\n",
              "        \n",
              "  <svg xmlns=\"http://www.w3.org/2000/svg\" height=\"24px\"viewBox=\"0 0 24 24\"\n",
              "       width=\"24px\">\n",
              "    <path d=\"M0 0h24v24H0V0z\" fill=\"none\"/>\n",
              "    <path d=\"M18.56 5.44l.94 2.06.94-2.06 2.06-.94-2.06-.94-.94-2.06-.94 2.06-2.06.94zm-11 1L8.5 8.5l.94-2.06 2.06-.94-2.06-.94L8.5 2.5l-.94 2.06-2.06.94zm10 10l.94 2.06.94-2.06 2.06-.94-2.06-.94-.94-2.06-.94 2.06-2.06.94z\"/><path d=\"M17.41 7.96l-1.37-1.37c-.4-.4-.92-.59-1.43-.59-.52 0-1.04.2-1.43.59L10.3 9.45l-7.72 7.72c-.78.78-.78 2.05 0 2.83L4 21.41c.39.39.9.59 1.41.59.51 0 1.02-.2 1.41-.59l7.78-7.78 2.81-2.81c.8-.78.8-2.07 0-2.86zM5.41 20L4 18.59l7.72-7.72 1.47 1.35L5.41 20z\"/>\n",
              "  </svg>\n",
              "      </button>\n",
              "      \n",
              "  <style>\n",
              "    .colab-df-container {\n",
              "      display:flex;\n",
              "      flex-wrap:wrap;\n",
              "      gap: 12px;\n",
              "    }\n",
              "\n",
              "    .colab-df-convert {\n",
              "      background-color: #E8F0FE;\n",
              "      border: none;\n",
              "      border-radius: 50%;\n",
              "      cursor: pointer;\n",
              "      display: none;\n",
              "      fill: #1967D2;\n",
              "      height: 32px;\n",
              "      padding: 0 0 0 0;\n",
              "      width: 32px;\n",
              "    }\n",
              "\n",
              "    .colab-df-convert:hover {\n",
              "      background-color: #E2EBFA;\n",
              "      box-shadow: 0px 1px 2px rgba(60, 64, 67, 0.3), 0px 1px 3px 1px rgba(60, 64, 67, 0.15);\n",
              "      fill: #174EA6;\n",
              "    }\n",
              "\n",
              "    [theme=dark] .colab-df-convert {\n",
              "      background-color: #3B4455;\n",
              "      fill: #D2E3FC;\n",
              "    }\n",
              "\n",
              "    [theme=dark] .colab-df-convert:hover {\n",
              "      background-color: #434B5C;\n",
              "      box-shadow: 0px 1px 3px 1px rgba(0, 0, 0, 0.15);\n",
              "      filter: drop-shadow(0px 1px 2px rgba(0, 0, 0, 0.3));\n",
              "      fill: #FFFFFF;\n",
              "    }\n",
              "  </style>\n",
              "\n",
              "      <script>\n",
              "        const buttonEl =\n",
              "          document.querySelector('#df-aa659f50-237a-4f92-bc7f-c01e4ba2941b button.colab-df-convert');\n",
              "        buttonEl.style.display =\n",
              "          google.colab.kernel.accessAllowed ? 'block' : 'none';\n",
              "\n",
              "        async function convertToInteractive(key) {\n",
              "          const element = document.querySelector('#df-aa659f50-237a-4f92-bc7f-c01e4ba2941b');\n",
              "          const dataTable =\n",
              "            await google.colab.kernel.invokeFunction('convertToInteractive',\n",
              "                                                     [key], {});\n",
              "          if (!dataTable) return;\n",
              "\n",
              "          const docLinkHtml = 'Like what you see? Visit the ' +\n",
              "            '<a target=\"_blank\" href=https://colab.research.google.com/notebooks/data_table.ipynb>data table notebook</a>'\n",
              "            + ' to learn more about interactive tables.';\n",
              "          element.innerHTML = '';\n",
              "          dataTable['output_type'] = 'display_data';\n",
              "          await google.colab.output.renderOutput(dataTable, element);\n",
              "          const docLink = document.createElement('div');\n",
              "          docLink.innerHTML = docLinkHtml;\n",
              "          element.appendChild(docLink);\n",
              "        }\n",
              "      </script>\n",
              "    </div>\n",
              "  </div>\n",
              "  "
            ],
            "text/plain": [
              "             0            1\n",
              "39  985.139373  1476.144186\n",
              "40  973.506985  1497.674672\n",
              "2   781.945406  1211.290869\n",
              "4   757.792434  1225.030045\n",
              "53  821.745556  1252.033344"
            ]
          },
          "metadata": {},
          "execution_count": 99
        }
      ],
      "source": [
        "X=df[[0,1]]\n",
        "X.head()"
      ]
    },
    {
      "cell_type": "code",
      "execution_count": null,
      "metadata": {
        "id": "L3-1LwgArfI3",
        "outputId": "178db020-0066-45fa-82ad-044f6c19e0c4",
        "colab": {
          "base_uri": "https://localhost:8080/",
          "height": 206
        }
      },
      "outputs": [
        {
          "output_type": "execute_result",
          "data": {
            "text/html": [
              "\n",
              "  <div id=\"df-f6053fee-ddf0-4951-9b74-6cd4533e65e9\">\n",
              "    <div class=\"colab-df-container\">\n",
              "      <div>\n",
              "<style scoped>\n",
              "    .dataframe tbody tr th:only-of-type {\n",
              "        vertical-align: middle;\n",
              "    }\n",
              "\n",
              "    .dataframe tbody tr th {\n",
              "        vertical-align: top;\n",
              "    }\n",
              "\n",
              "    .dataframe thead th {\n",
              "        text-align: right;\n",
              "    }\n",
              "</style>\n",
              "<table border=\"1\" class=\"dataframe\">\n",
              "  <thead>\n",
              "    <tr style=\"text-align: right;\">\n",
              "      <th></th>\n",
              "      <th>target</th>\n",
              "    </tr>\n",
              "  </thead>\n",
              "  <tbody>\n",
              "    <tr>\n",
              "      <th>0</th>\n",
              "      <td>O</td>\n",
              "    </tr>\n",
              "    <tr>\n",
              "      <th>1</th>\n",
              "      <td>U</td>\n",
              "    </tr>\n",
              "    <tr>\n",
              "      <th>2</th>\n",
              "      <td>A</td>\n",
              "    </tr>\n",
              "    <tr>\n",
              "      <th>3</th>\n",
              "      <td>E</td>\n",
              "    </tr>\n",
              "    <tr>\n",
              "      <th>4</th>\n",
              "      <td>A</td>\n",
              "    </tr>\n",
              "  </tbody>\n",
              "</table>\n",
              "</div>\n",
              "      <button class=\"colab-df-convert\" onclick=\"convertToInteractive('df-f6053fee-ddf0-4951-9b74-6cd4533e65e9')\"\n",
              "              title=\"Convert this dataframe to an interactive table.\"\n",
              "              style=\"display:none;\">\n",
              "        \n",
              "  <svg xmlns=\"http://www.w3.org/2000/svg\" height=\"24px\"viewBox=\"0 0 24 24\"\n",
              "       width=\"24px\">\n",
              "    <path d=\"M0 0h24v24H0V0z\" fill=\"none\"/>\n",
              "    <path d=\"M18.56 5.44l.94 2.06.94-2.06 2.06-.94-2.06-.94-.94-2.06-.94 2.06-2.06.94zm-11 1L8.5 8.5l.94-2.06 2.06-.94-2.06-.94L8.5 2.5l-.94 2.06-2.06.94zm10 10l.94 2.06.94-2.06 2.06-.94-2.06-.94-.94-2.06-.94 2.06-2.06.94z\"/><path d=\"M17.41 7.96l-1.37-1.37c-.4-.4-.92-.59-1.43-.59-.52 0-1.04.2-1.43.59L10.3 9.45l-7.72 7.72c-.78.78-.78 2.05 0 2.83L4 21.41c.39.39.9.59 1.41.59.51 0 1.02-.2 1.41-.59l7.78-7.78 2.81-2.81c.8-.78.8-2.07 0-2.86zM5.41 20L4 18.59l7.72-7.72 1.47 1.35L5.41 20z\"/>\n",
              "  </svg>\n",
              "      </button>\n",
              "      \n",
              "  <style>\n",
              "    .colab-df-container {\n",
              "      display:flex;\n",
              "      flex-wrap:wrap;\n",
              "      gap: 12px;\n",
              "    }\n",
              "\n",
              "    .colab-df-convert {\n",
              "      background-color: #E8F0FE;\n",
              "      border: none;\n",
              "      border-radius: 50%;\n",
              "      cursor: pointer;\n",
              "      display: none;\n",
              "      fill: #1967D2;\n",
              "      height: 32px;\n",
              "      padding: 0 0 0 0;\n",
              "      width: 32px;\n",
              "    }\n",
              "\n",
              "    .colab-df-convert:hover {\n",
              "      background-color: #E2EBFA;\n",
              "      box-shadow: 0px 1px 2px rgba(60, 64, 67, 0.3), 0px 1px 3px 1px rgba(60, 64, 67, 0.15);\n",
              "      fill: #174EA6;\n",
              "    }\n",
              "\n",
              "    [theme=dark] .colab-df-convert {\n",
              "      background-color: #3B4455;\n",
              "      fill: #D2E3FC;\n",
              "    }\n",
              "\n",
              "    [theme=dark] .colab-df-convert:hover {\n",
              "      background-color: #434B5C;\n",
              "      box-shadow: 0px 1px 3px 1px rgba(0, 0, 0, 0.15);\n",
              "      filter: drop-shadow(0px 1px 2px rgba(0, 0, 0, 0.3));\n",
              "      fill: #FFFFFF;\n",
              "    }\n",
              "  </style>\n",
              "\n",
              "      <script>\n",
              "        const buttonEl =\n",
              "          document.querySelector('#df-f6053fee-ddf0-4951-9b74-6cd4533e65e9 button.colab-df-convert');\n",
              "        buttonEl.style.display =\n",
              "          google.colab.kernel.accessAllowed ? 'block' : 'none';\n",
              "\n",
              "        async function convertToInteractive(key) {\n",
              "          const element = document.querySelector('#df-f6053fee-ddf0-4951-9b74-6cd4533e65e9');\n",
              "          const dataTable =\n",
              "            await google.colab.kernel.invokeFunction('convertToInteractive',\n",
              "                                                     [key], {});\n",
              "          if (!dataTable) return;\n",
              "\n",
              "          const docLinkHtml = 'Like what you see? Visit the ' +\n",
              "            '<a target=\"_blank\" href=https://colab.research.google.com/notebooks/data_table.ipynb>data table notebook</a>'\n",
              "            + ' to learn more about interactive tables.';\n",
              "          element.innerHTML = '';\n",
              "          dataTable['output_type'] = 'display_data';\n",
              "          await google.colab.output.renderOutput(dataTable, element);\n",
              "          const docLink = document.createElement('div');\n",
              "          docLink.innerHTML = docLinkHtml;\n",
              "          element.appendChild(docLink);\n",
              "        }\n",
              "      </script>\n",
              "    </div>\n",
              "  </div>\n",
              "  "
            ],
            "text/plain": [
              "  target\n",
              "0      O\n",
              "1      U\n",
              "2      A\n",
              "3      E\n",
              "4      A"
            ]
          },
          "metadata": {},
          "execution_count": 70
        }
      ],
      "source": [
        "y=df[['target']]\n",
        "y.head()"
      ]
    },
    {
      "cell_type": "code",
      "execution_count": null,
      "metadata": {
        "id": "Hie4oA0YrNjd"
      },
      "outputs": [],
      "source": [
        "kmeans = KMeans(n_clusters=5).fit(X)"
      ]
    },
    {
      "cell_type": "code",
      "execution_count": null,
      "metadata": {
        "colab": {
          "base_uri": "https://localhost:8080/"
        },
        "id": "3wsEU3mJso5h",
        "outputId": "e1cd3b30-fb94-4632-9f27-dd06950d210d"
      },
      "outputs": [
        {
          "output_type": "stream",
          "name": "stdout",
          "text": [
            "[3 3 2 2 2 3 2 2 3 2 2 2 4 1 4 4 4 4 4 1 1 4 4 4 4 1 1 1 1 1 4 1 1 1 1 1 2\n",
            " 2 0 0 0 0 0 0 0 0 0 0 0 0 0 0 0 0 0 0 0 0 0 0 0]\n",
            "[[ 432.85154395  809.26693404]\n",
            " [ 381.50895785 2266.09111107]\n",
            " [ 731.43997199 1202.60356887]\n",
            " [1008.35930468 1520.87462989]\n",
            " [ 419.9838429  1945.6163403 ]]\n"
          ]
        }
      ],
      "source": [
        "print(kmeans.labels_)\n",
        "print(kmeans.cluster_centers_)"
      ]
    },
    {
      "cell_type": "code",
      "execution_count": null,
      "metadata": {
        "colab": {
          "base_uri": "https://localhost:8080/",
          "height": 389
        },
        "id": "c1b-OsHnsi7e",
        "outputId": "e65aeaae-be52-44e8-c5b6-efab400b7dec"
      },
      "outputs": [
        {
          "output_type": "execute_result",
          "data": {
            "text/plain": [
              "([], <a list of 0 Text major ticklabel objects>)"
            ]
          },
          "metadata": {},
          "execution_count": 102
        },
        {
          "output_type": "display_data",
          "data": {
            "image/png": "[encoded data removed]",
            "text/plain": [
              "<Figure size 576x432 with 1 Axes>"
            ]
          },
          "metadata": {}
        }
      ],
      "source": [
        "plt.figure(1, figsize=(8, 6))\n",
        "plt.clf()\n",
        "plt.scatter(X[0], X[1],c=kmeans.labels_, alpha=.5, edgecolor='k')\n",
        "plt.scatter(kmeans.cluster_centers_[:, 0], kmeans.cluster_centers_[:, 1], s=200, marker = '*', c='k', edgecolor=None)\n",
        "plt.xlabel('Formante 1 [Hz]')\n",
        "plt.ylabel('Formante 2 [Hz]')\n",
        "plt.xticks(())\n",
        "plt.yticks(())"
      ]
    },
    {
      "cell_type": "markdown",
      "metadata": {
        "id": "kRRSBWMcvZ_4"
      },
      "source": [
        "Análisis de clusters"
      ]
    },
    {
      "cell_type": "code",
      "execution_count": null,
      "metadata": {
        "id": "9eFvt8PDAnVE"
      },
      "outputs": [],
      "source": [
        "tmp = pd.DataFrame({'Labels': df.target, 'Clusters': kmeans.labels_})# Create a DataFrame with labels and varieties as columns: df\n",
        "ct = pd.crosstab(tmp['Labels'], tmp['Clusters']) # Create crosstab: ct"
      ]
    },
    {
      "cell_type": "code",
      "execution_count": null,
      "metadata": {
        "colab": {
          "base_uri": "https://localhost:8080/"
        },
        "id": "BHPEkX0bAuHE",
        "outputId": "f131b3de-b1b1-45c7-8f08-89835eed0b0f"
      },
      "outputs": [
        {
          "output_type": "stream",
          "name": "stdout",
          "text": [
            "Clusters   0   1  2  3  4\n",
            "Labels                   \n",
            "A          0   0  8  4  0\n",
            "E          0   3  0  0  9\n",
            "I          0  10  0  0  2\n",
            "O         10   0  2  0  0\n",
            "U         13   0  0  0  0\n"
          ]
        }
      ],
      "source": [
        "print(ct)"
      ]
    },
    {
      "cell_type": "code",
      "execution_count": null,
      "metadata": {
        "id": "fZ9VrnT9A2WJ"
      },
      "outputs": [],
      "source": [
        "from sklearn.metrics import adjusted_rand_score\n",
        "ari0 = adjusted_rand_score(df.target, kmeans.labels_)"
      ]
    },
    {
      "cell_type": "code",
      "execution_count": null,
      "metadata": {
        "colab": {
          "base_uri": "https://localhost:8080/"
        },
        "id": "43DYrPLwBMxG",
        "outputId": "4d2131dc-3298-4c23-8f0f-3e109873f838"
      },
      "outputs": [
        {
          "output_type": "stream",
          "name": "stdout",
          "text": [
            "0.524089744750422\n"
          ]
        }
      ],
      "source": [
        "print(ari0)"
      ]
    },
    {
      "cell_type": "markdown",
      "source": [
        "De la matriz de confusión surge que las mayores confusiones se dan entre la E y la I."
      ],
      "metadata": {
        "id": "UmjxR34Pp-XE"
      }
    },
    {
      "cell_type": "markdown",
      "source": [
        "## 4.2 Método SVM"
      ],
      "metadata": {
        "id": "GVWJMzroqOK1"
      }
    },
    {
      "cell_type": "markdown",
      "source": [
        "Primero pruebo con dos vocales para hacer SVM binario. Pruebo con la E e I que aparecen algunas confusines en kmeans"
      ],
      "metadata": {
        "id": "DngEY7Bpqby3"
      }
    },
    {
      "cell_type": "code",
      "source": [
        "df2=df.loc[(df['target'] == 'E') | (df['target'] == 'I')]"
      ],
      "metadata": {
        "id": "87lXkSUaqZG8"
      },
      "execution_count": null,
      "outputs": []
    },
    {
      "cell_type": "code",
      "source": [
        "X=np.array(df2[[0,1]].values)\n",
        "y=df2.iloc[:,2:].values.ravel()\n",
        "\n",
        "C = 1.0  # SVM regularization parameter\n",
        "clf = svm.SVC(kernel='linear', C=C)\n",
        "clf.fit(X, y)"
      ],
      "metadata": {
        "id": "6e1G1aLgqz-4",
        "outputId": "21d764d5-8ec2-41dc-b775-99b25bfab507",
        "colab": {
          "base_uri": "https://localhost:8080/"
        }
      },
      "execution_count": null,
      "outputs": [
        {
          "output_type": "execute_result",
          "data": {
            "text/plain": [
              "SVC(kernel='linear')"
            ]
          },
          "metadata": {},
          "execution_count": 86
        }
      ]
    },
    {
      "cell_type": "markdown",
      "source": [
        "Los vectores son"
      ],
      "metadata": {
        "id": "VxfgoSrQq7jo"
      }
    },
    {
      "cell_type": "code",
      "source": [
        "clf.support_vectors_"
      ],
      "metadata": {
        "id": "03Kv8R5Iq6so",
        "outputId": "a5c9d630-81bd-4479-cb7e-a1db9f92dfd7",
        "colab": {
          "base_uri": "https://localhost:8080/"
        }
      },
      "execution_count": null,
      "outputs": [
        {
          "output_type": "execute_result",
          "data": {
            "text/plain": [
              "array([[ 467.78439863, 2341.83504505],\n",
              "       [ 282.46258831, 1931.09260711],\n",
              "       [ 434.00349058, 2368.55248148]])"
            ]
          },
          "metadata": {},
          "execution_count": 87
        }
      ]
    },
    {
      "cell_type": "markdown",
      "source": [
        "código para dibujar"
      ],
      "metadata": {
        "id": "OpQ9SqwIrDO1"
      }
    },
    {
      "cell_type": "code",
      "source": [
        "codes = {'E': 0, 'I': 1}"
      ],
      "metadata": {
        "id": "j0GMgBEBrSGM"
      },
      "execution_count": null,
      "outputs": []
    },
    {
      "cell_type": "code",
      "source": [
        "graficar_svm(X,y,clf,codes,alpha=0.8)"
      ],
      "metadata": {
        "id": "cG8yzlg1rCZp",
        "outputId": "48e7e14b-67b4-42da-bd77-38003d4b462d",
        "colab": {
          "base_uri": "https://localhost:8080/",
          "height": 279
        }
      },
      "execution_count": null,
      "outputs": [
        {
          "output_type": "display_data",
          "data": {
            "image/png": "[encoded data removed]",
            "text/plain": [
              "<Figure size 432x288 with 1 Axes>"
            ]
          },
          "metadata": {
            "needs_background": "light"
          }
        }
      ]
    },
    {
      "cell_type": "markdown",
      "source": [
        "SVM multiclase"
      ],
      "metadata": {
        "id": "uAjuQgZA7vG8"
      }
    },
    {
      "cell_type": "code",
      "source": [
        "X=np.array(df[[0,1]].values)\n",
        "y=df.iloc[:,2:].values.ravel()\n",
        "\n",
        "C = 1.0  # SVM regularization parameter\n",
        "clf = svm.SVC(kernel='poly',degree=3, C=C) \n",
        "clf.fit(X, y)"
      ],
      "metadata": {
        "id": "EYo2rZx_733A",
        "outputId": "6b8034a3-c560-44c3-a3d3-0acaa6f58f84",
        "colab": {
          "base_uri": "https://localhost:8080/"
        }
      },
      "execution_count": null,
      "outputs": [
        {
          "output_type": "execute_result",
          "data": {
            "text/plain": [
              "SVC(kernel='poly')"
            ]
          },
          "metadata": {},
          "execution_count": 12
        }
      ]
    },
    {
      "cell_type": "code",
      "source": [
        "codes = {'A':0,'E': 1, 'I': 2, 'O':3, 'U':4}"
      ],
      "metadata": {
        "id": "JrAbjscu8XLq"
      },
      "execution_count": null,
      "outputs": []
    },
    {
      "cell_type": "code",
      "source": [
        "graficar_svm(X,y,clf,codes,alpha=0.2)"
      ],
      "metadata": {
        "id": "yitYQ9vA8tYQ",
        "outputId": "a08b5af2-3b17-4d16-ad63-d083eb936544",
        "colab": {
          "base_uri": "https://localhost:8080/",
          "height": 296
        }
      },
      "execution_count": null,
      "outputs": [
        {
          "output_type": "execute_result",
          "data": {
            "text/plain": [
              "(497.0, 2903.0)"
            ]
          },
          "metadata": {},
          "execution_count": 14
        },
        {
          "output_type": "display_data",
          "data": {
            "image/png": "[encoded data removed]",
            "text/plain": [
              "<Figure size 432x288 with 1 Axes>"
            ]
          },
          "metadata": {
            "needs_background": "light"
          }
        }
      ]
    },
    {
      "cell_type": "markdown",
      "metadata": {
        "id": "-iMUO4wmpskx"
      },
      "source": [
        "## 5. Metodos Supervisados"
      ]
    },
    {
      "cell_type": "markdown",
      "metadata": {
        "id": "kOouXJ_Tpsky"
      },
      "source": [
        "## 5.1 Separacion train / test"
      ]
    },
    {
      "cell_type": "code",
      "execution_count": null,
      "metadata": {
        "id": "Jb_ox9Bmpsky"
      },
      "outputs": [],
      "source": [
        "x_train,x_test,y_train,y_test = train_test_split(X,y,test_size=0.25,random_state=42,stratify=y)"
      ]
    },
    {
      "cell_type": "code",
      "execution_count": null,
      "metadata": {
        "id": "uBNXNKGrpsky",
        "outputId": "b281e32a-fb24-4368-ff32-fd74d0cc8538"
      },
      "outputs": [
        {
          "data": {
            "text/plain": [
              "(45, 2)"
            ]
          },
          "execution_count": 37,
          "metadata": {},
          "output_type": "execute_result"
        }
      ],
      "source": [
        "x_train.shape"
      ]
    },
    {
      "cell_type": "code",
      "execution_count": null,
      "metadata": {
        "id": "huS3pa3Zpskz",
        "outputId": "226e7a97-4ea1-4621-9bd7-724421f52ae6"
      },
      "outputs": [
        {
          "data": {
            "text/plain": [
              "(45, 1)"
            ]
          },
          "execution_count": 38,
          "metadata": {},
          "output_type": "execute_result"
        }
      ],
      "source": [
        "y_train.shape"
      ]
    },
    {
      "cell_type": "code",
      "execution_count": null,
      "metadata": {
        "id": "VzOFtM7bpskz",
        "outputId": "302c7076-557c-4701-99d5-fccb011e1969"
      },
      "outputs": [
        {
          "data": {
            "text/plain": [
              "target\n",
              "A         9\n",
              "E         9\n",
              "I         9\n",
              "O         9\n",
              "U         9\n",
              "dtype: int64"
            ]
          },
          "execution_count": 39,
          "metadata": {},
          "output_type": "execute_result"
        }
      ],
      "source": [
        "y_train.value_counts()"
      ]
    },
    {
      "cell_type": "code",
      "execution_count": null,
      "metadata": {
        "id": "ErStlrfmpsk0",
        "outputId": "1b682e9f-641c-482d-b235-9bf0b8cef029"
      },
      "outputs": [
        {
          "data": {
            "text/plain": [
              "(16, 2)"
            ]
          },
          "execution_count": 40,
          "metadata": {},
          "output_type": "execute_result"
        }
      ],
      "source": [
        "x_test.shape"
      ]
    },
    {
      "cell_type": "code",
      "execution_count": null,
      "metadata": {
        "id": "_w4QiJq1psk1",
        "outputId": "af7c92e5-4494-4fc6-8fe4-0f00be040812"
      },
      "outputs": [
        {
          "data": {
            "text/plain": [
              "(16, 1)"
            ]
          },
          "execution_count": 41,
          "metadata": {},
          "output_type": "execute_result"
        }
      ],
      "source": [
        "y_test.shape"
      ]
    },
    {
      "cell_type": "code",
      "execution_count": null,
      "metadata": {
        "id": "4jy9ciT4psk2",
        "outputId": "719b3acb-b048-49fb-ab95-d185c91a5122"
      },
      "outputs": [
        {
          "data": {
            "text/plain": [
              "target\n",
              "U         4\n",
              "A         3\n",
              "E         3\n",
              "I         3\n",
              "O         3\n",
              "dtype: int64"
            ]
          },
          "execution_count": 42,
          "metadata": {},
          "output_type": "execute_result"
        }
      ],
      "source": [
        "y_test.value_counts()"
      ]
    },
    {
      "cell_type": "markdown",
      "metadata": {
        "id": "njsWOLBYpsk2"
      },
      "source": [
        "## 5.2 Estandarizacion features numericos - Encoding del target"
      ]
    },
    {
      "cell_type": "markdown",
      "metadata": {
        "id": "lZU0FbVApsk3"
      },
      "source": [
        "Estandarizacion de los features numericos"
      ]
    },
    {
      "cell_type": "code",
      "execution_count": null,
      "metadata": {
        "id": "Du0G6UY8psk3"
      },
      "outputs": [],
      "source": [
        "num_scaler = StandardScaler()"
      ]
    },
    {
      "cell_type": "code",
      "execution_count": null,
      "metadata": {
        "id": "rF1unxrupsk4"
      },
      "outputs": [],
      "source": [
        "x_train = num_scaler.fit_transform(x_train)"
      ]
    },
    {
      "cell_type": "code",
      "execution_count": null,
      "metadata": {
        "id": "LMjMHJukpsk4"
      },
      "outputs": [],
      "source": [
        "x_test = num_scaler.transform(x_test)"
      ]
    },
    {
      "cell_type": "markdown",
      "metadata": {
        "id": "Dun-7rZkpsk4"
      },
      "source": [
        "Encoding del target categorico"
      ]
    },
    {
      "cell_type": "code",
      "execution_count": null,
      "metadata": {
        "id": "w7nekHfApsk5"
      },
      "outputs": [],
      "source": [
        "cat_encoder = LabelEncoder()"
      ]
    },
    {
      "cell_type": "code",
      "execution_count": null,
      "metadata": {
        "id": "hHpBYUvepsk5",
        "outputId": "3de52c2d-8b80-49ce-da71-81f7da933b5b"
      },
      "outputs": [
        {
          "name": "stderr",
          "output_type": "stream",
          "text": [
            "C:\\Users\\ccollado\\anaconda3\\lib\\site-packages\\sklearn\\utils\\validation.py:63: DataConversionWarning: A column-vector y was passed when a 1d array was expected. Please change the shape of y to (n_samples, ), for example using ravel().\n",
            "  return f(*args, **kwargs)\n"
          ]
        }
      ],
      "source": [
        "y_train = cat_encoder.fit_transform(y_train)"
      ]
    },
    {
      "cell_type": "code",
      "execution_count": null,
      "metadata": {
        "id": "2FLDIe-Tpsk5"
      },
      "outputs": [],
      "source": [
        "y_test = cat_encoder.transform(y_test)"
      ]
    },
    {
      "cell_type": "code",
      "execution_count": null,
      "metadata": {
        "id": "e3EK5CZ9psk6"
      },
      "outputs": [],
      "source": [
        ""
      ]
    },
    {
      "cell_type": "code",
      "execution_count": null,
      "metadata": {
        "id": "LqDKWR7hpsk6"
      },
      "outputs": [],
      "source": [
        ""
      ]
    },
    {
      "cell_type": "code",
      "execution_count": null,
      "metadata": {
        "id": "CASSNSF-psk6"
      },
      "outputs": [],
      "source": [
        ""
      ]
    },
    {
      "cell_type": "code",
      "execution_count": null,
      "metadata": {
        "id": "6_D7-nPxpsk7"
      },
      "outputs": [],
      "source": [
        ""
      ]
    },
    {
      "cell_type": "code",
      "execution_count": null,
      "metadata": {
        "id": "SwU4uEDWpsk7"
      },
      "outputs": [],
      "source": [
        ""
      ]
    },
    {
      "cell_type": "code",
      "execution_count": null,
      "metadata": {
        "id": "kDG0FM1xpsk7"
      },
      "outputs": [],
      "source": [
        ""
      ]
    },
    {
      "cell_type": "code",
      "execution_count": null,
      "metadata": {
        "id": "6TlF8--Fpsk7"
      },
      "outputs": [],
      "source": [
        ""
      ]
    }
  ],
  "metadata": {
    "colab": {
      "collapsed_sections": [],
      "name": "k_means_vocales.ipynb",
      "provenance": [],
      "include_colab_link": true
    },
    "kernelspec": {
      "display_name": "Python 3",
      "language": "python",
      "name": "python3"
    },
    "language_info": {
      "codemirror_mode": {
        "name": "ipython",
        "version": 3
      },
      "file_extension": ".py",
      "mimetype": "text/x-python",
      "name": "python",
      "nbconvert_exporter": "python",
      "pygments_lexer": "ipython3",
      "version": "3.8.8"
    }
  },
  "nbformat": 4,
  "nbformat_minor": 0
}